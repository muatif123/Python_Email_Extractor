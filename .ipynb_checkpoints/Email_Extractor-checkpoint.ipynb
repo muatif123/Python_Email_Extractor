{
 "cells": [
  {
   "cell_type": "code",
   "execution_count": 1,
   "metadata": {},
   "outputs": [],
   "source": [
    "import tkinter as tk\n",
    "from tkinter import *\n",
    "from tkinter import ttk\n",
    "from tkinter.scrolledtext import *"
   ]
  },
  {
   "cell_type": "code",
   "execution_count": 2,
   "metadata": {},
   "outputs": [],
   "source": [
    "# Regex\n",
    "import re\n",
    "\n",
    "email_regex = re.compile(r\"[\\w\\.-] + @[\\w\\.-] +\")\n",
    "phone_num_regex = re.compile(r\"\\d\\d.\\d\\d\\d\\d\\d\\d\\d\\d\\d\\d\")\n",
    "url_regex_https = re.compile(r\"https?://www\\.?\\w + \\.\\w +\")\n",
    "url_regex = re.compile(r\"http?://www\\.?\\w + \\.\\w +\")"
   ]
  },
  {
   "cell_type": "code",
   "execution_count": 3,
   "metadata": {},
   "outputs": [],
   "source": [
    "window = Tk()\n",
    "window.geometry('700x500')\n",
    "window.title(\"Email & Phone Number Extractor\")\n",
    "\n",
    "tab_control = ttk.Notebook(window)\n",
    "tab1 = ttk.Frame(tab_control)\n",
    "tab2 = ttk.Frame(tab_control)\n",
    "tab3 = ttk.Frame(tab_control)\n",
    "\n",
    "tab_control.add(tab1, text = \"Home\")\n",
    "tab_control.add(tab2, text = \"Url\")\n",
    "tab_control.add(tab3, text = \"About\")\n",
    "\n",
    "tab_control.pack(expand = 1, fill = \"both\")\n",
    "\n",
    "label1 = Label(tab1, text = \"Email & Phone Number Extractor\", padx = 5, pady = 5)\n",
    "label1.grid(column = 0, row = 0)\n",
    "\n",
    "label2 = Label(tab2, text = \"URL Links Extractor\", padx = 5, pady = 5)\n",
    "label2.grid(column =  0, row = 0)\n",
    "\n",
    "label3 = Label(tab3, text = \"About\", padx = 5, pady = 5)\n",
    "label3.grid(column = 0, row = 0)"
   ]
  },
  {
   "cell_type": "code",
   "execution_count": 4,
   "metadata": {},
   "outputs": [],
   "source": [
    "# Functions\n",
    "\n",
    "def clear_text():\n",
    "    entry.delete('1.0', END)\n",
    "    \n",
    "def clear_text_url():\n",
    "    entry.delete('1.0', END)\n",
    "    \n",
    "def clear_display_result():\n",
    "    tab1_display.delete('1.0', END)\n",
    "    \n",
    "def clear_display_result_url():\n",
    "    tab2_display.delete('1.0', END)\n",
    "    \n",
    "def extract_email():\n",
    "    raw_text = str(entry1.get('1.0', tk.END))\n",
    "    final_extract = email_regex.findall(raw_text)\n",
    "    num_of_results = len(final_extract)\n",
    "    result = '\\nEmail : {}, \\nNumber of Emails : {}'.format(num_of_results, final_extract)\n",
    "    tab1_display.insert(tk.END, result)\n",
    "    \n",
    "def extract_phone_numbers():\n",
    "    raw_text = str(entry1.get('1.0', tk.END))\n",
    "    final_extract = phone_num_regex.findall(raw_text)\n",
    "    num_of_results = len(final_extract)\n",
    "    result = '\\Phone Number Count : {}.\\nPhone Numbers : {}'.format(num_of_results, final_extract)\n",
    "    tab1_display.insert(tk.END, result)\n",
    "    \n",
    "def extract_http():\n",
    "    raw_text = str(entry1.get('1.0', tk.END))\n",
    "    final_extract = url_regex.findall(raw_text)\n",
    "    num_of_results = len(final_extract)\n",
    "    result = '\\nURL Count : {},\\nURL/HTTP : {}'.format(num_of_results, final_extract)\n",
    "    tab2_display.insert(tk.END, result)\n",
    "    \n",
    "def extract_https():\n",
    "    raw_text = str(entry1.get('1.0', tk.END))\n",
    "    final_extract = url_regex_https.findall(raw_text)\n",
    "    num_of_results = len(final_extract)\n",
    "    result = '\\nURL Count : {}.\\nURL/HTTP : {}'.format(num_of_results, final_extract)\n",
    "    tab2_display.insert(tk.END, result)"
   ]
  },
  {
   "cell_type": "code",
   "execution_count": 5,
   "metadata": {},
   "outputs": [],
   "source": [
    "# Main Email & Phone Tab\n",
    "l1 = Label(tab1, text = \"Enter text to Extract\")\n",
    "l1.grid(column = 0, row = 1)\n",
    "\n",
    "entry1 = ScrolledText(tab1, height = 10)\n",
    "entry1.grid(row = 2, column = 0, columnspan = 2, padx = 5, pady = 5)\n",
    "\n",
    "# Buttons\n",
    "\n",
    "button_1 = Button(tab1, text = \"Reset\",command = clear_text, width = 10, bg = \"#0349F4\", fg = \"#fff\")\n",
    "button_1.grid(row = 4, column = 0, padx = 10, pady = 10)\n",
    "\n",
    "button_2 = Button(tab1, text = \"Email\",command = extract_email, width = 10, bg = \"#0349F4\", fg = \"#fff\")\n",
    "button_2.grid(row = 5, column = 0, padx = 10, pady = 10)\n",
    "\n",
    "button_2 = Button(tab1, text = \"Phone\",command = extract_phone_numbers, width = 10, bg = \"red\", fg = \"#fff\")\n",
    "button_2.grid(row = 4, column = 1, padx = 10, pady = 10)\n",
    "\n",
    "button_3 = Button(tab1, text = \"Clear Result\",command = clear_display_result, width = 10, bg = \"green\", fg = \"#fff\")\n",
    "button_3.grid(row = 5, column = 1, padx = 10, pady = 10)\n"
   ]
  },
  {
   "cell_type": "code",
   "execution_count": 6,
   "metadata": {},
   "outputs": [],
   "source": [
    "# variable = StringVar()\n",
    "# variable.set(\"URL/HTTP\")\n",
    "# choice_button = OptionMenu(tab1, variable, \"URL/HTTP\", \"URL/HTTPS\")\n",
    "# choice_button.grid(row = 6, column = 1)"
   ]
  },
  {
   "cell_type": "code",
   "execution_count": 7,
   "metadata": {},
   "outputs": [],
   "source": [
    "# Display\n",
    "tab1_display = ScrolledText(tab1, height = 10)\n",
    "tab1_display.grid(row = 7, column = 0, columnspan = 3, padx = 5, pady = 5)"
   ]
  },
  {
   "cell_type": "code",
   "execution_count": 8,
   "metadata": {},
   "outputs": [],
   "source": [
    "# URL Tab Page\n",
    "\n",
    "l1 = Label(tab2, text = \"Enter text to Extract Links\")\n",
    "l1.grid(column = 0, row = 1)\n",
    "\n",
    "entry = ScrolledText(tab2, height = 10)\n",
    "entry.grid(row = 2, column = 0, columnspan = 2, padx = 5, pady = 5)\n",
    "\n",
    "# Buttons\n",
    "\n",
    "button1 = Button(tab2, text = \"Reset\",command = clear_text_url, width = 10, bg = \"#0349F4\", fg = \"#fff\")\n",
    "button1.grid(row = 4, column = 0, padx = 10, pady = 10)\n",
    "\n",
    "button2 = Button(tab2, text = \"Extract HTTP\",command = extract_http, width = 10, bg = \"#0349F4\", fg = \"#fff\")\n",
    "button2.grid(row = 5, column = 1, padx = 10, pady = 10)\n",
    "\n",
    "button2 = Button(tab2, text = \"Extract HTTPS\",command = extract_https, width = 10, bg = \"red\", fg = \"#fff\")\n",
    "button2.grid(row = 4, column = 1, padx = 10, pady = 10)\n",
    "\n",
    "button3 = Button(tab2, text = \"Clear Result\",command = clear_display_result_url, width = 10, bg = \"green\", fg = \"#fff\")\n",
    "button3.grid(row = 5, column = 0, padx = 10, pady = 10)"
   ]
  },
  {
   "cell_type": "code",
   "execution_count": 9,
   "metadata": {},
   "outputs": [],
   "source": [
    "# variable = StringVar()\n",
    "# variable.set(\"URL/HTTP\")\n",
    "# choice_button = OptionMenu(tab1, variable, \"URL/HTTP\", \"URL/HTTPS\")\n",
    "# choice_button.grid(row = 6, column = 1)"
   ]
  },
  {
   "cell_type": "code",
   "execution_count": 10,
   "metadata": {},
   "outputs": [],
   "source": [
    "# Display Screen For Result\n",
    "tab2_display = ScrolledText(tab2, height = 10)\n",
    "tab2_display.grid(row = 7, column = 0, columnspan =3, padx = 5, pady = 5)"
   ]
  },
  {
   "cell_type": "code",
   "execution_count": 11,
   "metadata": {},
   "outputs": [],
   "source": [
    "# About TAB\n",
    "# Email Extractor"
   ]
  },
  {
   "cell_type": "code",
   "execution_count": 12,
   "metadata": {},
   "outputs": [],
   "source": [
    "window.mainloop()"
   ]
  }
 ],
 "metadata": {
  "kernelspec": {
   "display_name": "Python 3",
   "language": "python",
   "name": "python3"
  },
  "language_info": {
   "codemirror_mode": {
    "name": "ipython",
    "version": 3
   },
   "file_extension": ".py",
   "mimetype": "text/x-python",
   "name": "python",
   "nbconvert_exporter": "python",
   "pygments_lexer": "ipython3",
   "version": "3.8.3"
  }
 },
 "nbformat": 4,
 "nbformat_minor": 4
}
